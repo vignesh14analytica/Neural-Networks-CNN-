{
 "cells": [
  {
   "cell_type": "code",
   "execution_count": 2,
   "metadata": {},
   "outputs": [],
   "source": [
    "import tensorflow as tf\n",
    "import matplotlib.pyplot as plt\n",
    "import numpy as np"
   ]
  },
  {
   "cell_type": "code",
   "execution_count": 3,
   "metadata": {},
   "outputs": [],
   "source": [
    "# Download MNIST dataset from Keras\n",
    "\n",
    "mnist = tf.keras.datasets.fashion_mnist"
   ]
  },
  {
   "cell_type": "code",
   "execution_count": 4,
   "metadata": {},
   "outputs": [],
   "source": [
    "# Loading dataset into training and test sets\n",
    "\n",
    "(x_train, y_train),(x_test, y_test) = mnist.load_data()"
   ]
  },
  {
   "cell_type": "code",
   "execution_count": 5,
   "metadata": {},
   "outputs": [
    {
     "data": {
      "text/plain": [
       "<matplotlib.image.AxesImage at 0x13ebed810>"
      ]
     },
     "execution_count": 5,
     "metadata": {},
     "output_type": "execute_result"
    },
    {
     "data": {
      "image/png": "[encoded data removed]",
      "text/plain": [
       "<Figure size 432x288 with 1 Axes>"
      ]
     },
     "metadata": {
      "needs_background": "light"
     },
     "output_type": "display_data"
    }
   ],
   "source": [
    "# Viewing data from the training images\n",
    "\n",
    "plt.imshow(x_train[45])"
   ]
  },
  {
   "cell_type": "markdown",
   "metadata": {},
   "source": [
    "# Basic Neural Network"
   ]
  },
  {
   "cell_type": "code",
   "execution_count": 6,
   "metadata": {},
   "outputs": [
    {
     "name": "stdout",
     "output_type": "stream",
     "text": [
      "Epoch 1/10\n",
      "60000/60000 [==============================] - 5s 75us/sample - loss: 0.5016 - accuracy: 0.8250\n",
      "Epoch 2/10\n",
      "60000/60000 [==============================] - 3s 58us/sample - loss: 0.3762 - accuracy: 0.8641\n",
      "Epoch 3/10\n",
      "60000/60000 [==============================] - 4s 63us/sample - loss: 0.3368 - accuracy: 0.8786\n",
      "Epoch 4/10\n",
      "60000/60000 [==============================] - 3s 56us/sample - loss: 0.3140 - accuracy: 0.8852\n",
      "Epoch 5/10\n",
      "60000/60000 [==============================] - 4s 62us/sample - loss: 0.2949 - accuracy: 0.8922\n",
      "Epoch 6/10\n",
      "60000/60000 [==============================] - 4s 71us/sample - loss: 0.2808 - accuracy: 0.8963\n",
      "Epoch 7/10\n",
      "59360/60000 [============================>.] - ETA: 0s - loss: 0.2674 - accuracy: 0.9008\n",
      "Reached 90% accuracy so cancelling training!\n",
      "60000/60000 [==============================] - 4s 64us/sample - loss: 0.2675 - accuracy: 0.9008\n"
     ]
    },
    {
     "data": {
      "text/plain": [
       "<tensorflow.python.keras.callbacks.History at 0x13acc9f10>"
      ]
     },
     "execution_count": 6,
     "metadata": {},
     "output_type": "execute_result"
    }
   ],
   "source": [
    "# creating the class for callback functionality\n",
    "class myCallback(tf.keras.callbacks.Callback):\n",
    "    def on_epoch_end(self, epoch, logs = {}):\n",
    "        if(logs.get('accuracy') > 0.90): #The model should terminate when the accuracy is > 60%\n",
    "            print(\"\\nReached 90% accuracy so cancelling training!\")\n",
    "            self.model.stop_training = True\n",
    "\n",
    "# Normalising the training and test data\n",
    "x_test = x_test / 255\n",
    "x_train = x_train / 255\n",
    "\n",
    "# Calling the myCallback class\n",
    "callbacks = myCallback()\n",
    "\n",
    "# Initiating the training model with one hidden layer\n",
    "model = tf.keras.Sequential([tf.keras.layers.Flatten(), # Flattening the input layer\n",
    "                             tf.keras.layers.Dense(units = 128, activation = tf.nn.relu),\n",
    "                             tf.keras.layers.Dense(units = 10, activation = tf.nn.softmax)])\n",
    "\n",
    "# Compiling model with Adam optimizer and loss function is sparse_categorical_crossentropy\n",
    "model.compile(tf.optimizers.Adam(), loss = 'sparse_categorical_crossentropy', metrics = ['accuracy'])\n",
    "\n",
    "# Training the model.\n",
    "model.fit(x_train, y_train, epochs = 10, callbacks = [callbacks])"
   ]
  },
  {
   "cell_type": "markdown",
   "metadata": {},
   "source": [
    "# Building the Convolution Neural Network"
   ]
  },
  {
   "cell_type": "code",
   "execution_count": 7,
   "metadata": {},
   "outputs": [
    {
     "name": "stdout",
     "output_type": "stream",
     "text": [
      "Epoch 1/10\n",
      "60000/60000 [==============================] - 53s 877us/sample - loss: 0.4330 - accuracy: 0.8434\n",
      "Epoch 2/10\n",
      "60000/60000 [==============================] - 51s 844us/sample - loss: 0.2925 - accuracy: 0.8913\n",
      "Epoch 3/10\n",
      "59968/60000 [============================>.] - ETA: 0s - loss: 0.2472 - accuracy: 0.9093 ETA: 0s - loss: 0.2471 - accuracy\n",
      "Reached 90% accuracy so cancelling training!\n",
      "60000/60000 [==============================] - 50s 835us/sample - loss: 0.2472 - accuracy: 0.9093\n"
     ]
    },
    {
     "data": {
      "text/plain": [
       "<tensorflow.python.keras.callbacks.History at 0x15a060490>"
      ]
     },
     "execution_count": 7,
     "metadata": {},
     "output_type": "execute_result"
    }
   ],
   "source": [
    "# Download MNIST dataset from Keras\n",
    "mnist = tf.keras.datasets.fashion_mnist\n",
    "\n",
    "# Loading dataset into training and test sets\n",
    "(x_train, y_train),(x_test, y_test) = mnist.load_data()\n",
    "\n",
    "# creating the class for callback functionality\n",
    "class myCallback(tf.keras.callbacks.Callback):\n",
    "    def on_epoch_end(self, epoch, logs = {}):\n",
    "        if(logs.get('accuracy') > 0.90): #The model should terminate when the accuracy is > 60%\n",
    "            print(\"\\nReached 90% accuracy so cancelling training!\")\n",
    "            self.model.stop_training = True\n",
    "\n",
    "# Normalising the training and test data\n",
    "x_train = x_train.reshape(60000,28,28,1)\n",
    "x_train = x_train / 255.0\n",
    "x_test = x_test.reshape(10000,28,28,1)\n",
    "x_test = x_test / 255.0\n",
    "\n",
    "# Calling the myCallback class\n",
    "callbacks = myCallback()\n",
    "\n",
    "# Initiating the training model with 2 convolution layers. 64 of (3,3) filters \n",
    "model = tf.keras.Sequential([tf.keras.layers.Conv2D(64, (3,3), activation = tf.nn.relu, input_shape=(28, 28, 1)),\n",
    "                             tf.keras.layers.MaxPooling2D(2,2),\n",
    "                             tf.keras.layers.Conv2D(64, (3,3), activation = tf.nn.relu),\n",
    "                             tf.keras.layers.MaxPooling2D(2,2),\n",
    "                             tf.keras.layers.Flatten(), # Flattening the input layer\n",
    "                             tf.keras.layers.Dense(units = 128, activation = tf.nn.relu),\n",
    "                             tf.keras.layers.Dense(units = 10, activation = tf.nn.softmax)])\n",
    "\n",
    "# Compiling model with Adam optimizer and loss function is sparse_categorical_crossentropy\n",
    "model.compile(tf.optimizers.Adam(), loss = 'sparse_categorical_crossentropy', metrics = ['accuracy'])\n",
    "\n",
    "# Training the model. \n",
    "model.fit(x_train, y_train, epochs = 10, callbacks = [callbacks])"
   ]
  },
  {
   "cell_type": "code",
   "execution_count": 8,
   "metadata": {},
   "outputs": [
    {
     "name": "stdout",
     "output_type": "stream",
     "text": [
      "10000/10000 [==============================] - 2s 238us/sample - loss: 0.2818 - accuracy: 0.8948\n"
     ]
    },
    {
     "data": {
      "text/plain": [
       "[0.28181803369522096, 0.8948]"
      ]
     },
     "execution_count": 8,
     "metadata": {},
     "output_type": "execute_result"
    }
   ],
   "source": [
    "model.evaluate(x_test, y_test)"
   ]
  },
  {
   "cell_type": "code",
   "execution_count": 9,
   "metadata": {},
   "outputs": [
    {
     "name": "stdout",
     "output_type": "stream",
     "text": [
      "Model: \"sequential_1\"\n",
      "_________________________________________________________________\n",
      "Layer (type)                 Output Shape              Param #   \n",
      "=================================================================\n",
      "conv2d (Conv2D)              (None, 26, 26, 64)        640       \n",
      "_________________________________________________________________\n",
      "max_pooling2d (MaxPooling2D) (None, 13, 13, 64)        0         \n",
      "_________________________________________________________________\n",
      "conv2d_1 (Conv2D)            (None, 11, 11, 64)        36928     \n",
      "_________________________________________________________________\n",
      "max_pooling2d_1 (MaxPooling2 (None, 5, 5, 64)          0         \n",
      "_________________________________________________________________\n",
      "flatten_1 (Flatten)          (None, 1600)              0         \n",
      "_________________________________________________________________\n",
      "dense_2 (Dense)              (None, 128)               204928    \n",
      "_________________________________________________________________\n",
      "dense_3 (Dense)              (None, 10)                1290      \n",
      "=================================================================\n",
      "Total params: 243,786\n",
      "Trainable params: 243,786\n",
      "Non-trainable params: 0\n",
      "_________________________________________________________________\n"
     ]
    }
   ],
   "source": [
    "model.summary()"
   ]
  },
  {
   "cell_type": "code",
   "execution_count": 10,
   "metadata": {},
   "outputs": [
    {
     "name": "stdout",
     "output_type": "stream",
     "text": [
      "[2.2047978e-04 6.9439784e-07 1.4689983e-05 3.2830671e-05 8.6507771e-07\n",
      " 1.4265109e-03 2.1562903e-06 9.0574604e-01 1.1251741e-04 9.2443161e-02]\n",
      "9\n"
     ]
    }
   ],
   "source": [
    "classification = model.predict(x_test)\n",
    "\n",
    "print(classification[68])\n",
    "print(y_test[68])"
   ]
  },
  {
   "cell_type": "markdown",
   "metadata": {},
   "source": [
    "# Visualising the Convolution Layers"
   ]
  },
  {
   "cell_type": "code",
   "execution_count": 11,
   "metadata": {},
   "outputs": [
    {
     "data": {
      "image/png": "[encoded data removed]",
      "text/plain": [
       "<Figure size 432x288 with 12 Axes>"
      ]
     },
     "metadata": {
      "needs_background": "light"
     },
     "output_type": "display_data"
    }
   ],
   "source": [
    "f, axarr = plt.subplots(3,4)\n",
    "FIRST_IMAGE=0\n",
    "SECOND_IMAGE=7\n",
    "THIRD_IMAGE=26\n",
    "CONVOLUTION_NUMBER = 1\n",
    "from tensorflow.keras import models\n",
    "layer_outputs = [layer.output for layer in model.layers]\n",
    "activation_model = tf.keras.models.Model(inputs = model.input, outputs = layer_outputs)\n",
    "for x in range(0,4):\n",
    "    f1 = activation_model.predict(x_test[FIRST_IMAGE].reshape(1, 28, 28, 1))[x]\n",
    "    axarr[0,x].imshow(f1[0, : , :, CONVOLUTION_NUMBER], cmap='inferno')\n",
    "    axarr[0,x].grid(False)\n",
    "    f2 = activation_model.predict(x_test[SECOND_IMAGE].reshape(1, 28, 28, 1))[x]\n",
    "    axarr[1,x].imshow(f2[0, : , :, CONVOLUTION_NUMBER], cmap='inferno')\n",
    "    axarr[1,x].grid(False)\n",
    "    f3 = activation_model.predict(x_test[THIRD_IMAGE].reshape(1, 28, 28, 1))[x]\n",
    "    axarr[2,x].imshow(f3[0, : , :, CONVOLUTION_NUMBER], cmap='inferno')\n",
    "    axarr[2,x].grid(False)"
   ]
  },
  {
   "cell_type": "markdown",
   "metadata": {},
   "source": [
    "# Reducing the number of filters to 32"
   ]
  },
  {
   "cell_type": "code",
   "execution_count": 12,
   "metadata": {},
   "outputs": [
    {
     "name": "stdout",
     "output_type": "stream",
     "text": [
      "Epoch 1/10\n",
      "60000/60000 [==============================] - 28s 464us/sample - loss: 0.4729 - accuracy: 0.8281\n",
      "Epoch 2/10\n",
      "60000/60000 [==============================] - 29s 489us/sample - loss: 0.3184 - accuracy: 0.8821\n",
      "Epoch 3/10\n",
      "60000/60000 [==============================] - 26s 440us/sample - loss: 0.2736 - accuracy: 0.8987\n",
      "Epoch 4/10\n",
      "59872/60000 [============================>.] - ETA: 0s - loss: 0.2428 - accuracy: 0.9100\n",
      "Reached 90% accuracy so cancelling training!\n",
      "60000/60000 [==============================] - 31s 518us/sample - loss: 0.2429 - accuracy: 0.9099\n"
     ]
    },
    {
     "data": {
      "text/plain": [
       "<tensorflow.python.keras.callbacks.History at 0x13c1f0350>"
      ]
     },
     "execution_count": 12,
     "metadata": {},
     "output_type": "execute_result"
    }
   ],
   "source": [
    "# Decreasing the number of filters to 32\n",
    "\n",
    "# Download MNIST dataset from Keras\n",
    "mnist = tf.keras.datasets.fashion_mnist\n",
    "\n",
    "# Loading dataset into training and test sets\n",
    "(x_train, y_train),(x_test, y_test) = mnist.load_data()\n",
    "\n",
    "# creating the class for callback functionality\n",
    "class myCallback(tf.keras.callbacks.Callback):\n",
    "    def on_epoch_end(self, epoch, logs = {}):\n",
    "        if(logs.get('accuracy') > 0.90): #The model should terminate when the accuracy is > 60%\n",
    "            print(\"\\nReached 90% accuracy so cancelling training!\")\n",
    "            self.model.stop_training = True\n",
    "\n",
    "# Normalising the training and test data\n",
    "x_train = x_train.reshape(60000,28,28,1)\n",
    "x_train = x_train / 255.0\n",
    "x_test = x_test.reshape(10000,28,28,1)\n",
    "x_test = x_test / 255.0\n",
    "\n",
    "# Calling the myCallback class\n",
    "callbacks = myCallback()\n",
    "\n",
    "# Initiating the training model with 2 convolution layers. 32 of (3,3) filters \n",
    "model = tf.keras.Sequential([tf.keras.layers.Conv2D(32, (3,3), activation = tf.nn.relu, input_shape=(28, 28, 1)),\n",
    "                             tf.keras.layers.MaxPooling2D(2,2),\n",
    "                             tf.keras.layers.Conv2D(32, (3,3), activation = tf.nn.relu),\n",
    "                             tf.keras.layers.MaxPooling2D(2,2),\n",
    "                             tf.keras.layers.Flatten(), # Flattening the input layer\n",
    "                             tf.keras.layers.Dense(units = 128, activation = tf.nn.relu),\n",
    "                             tf.keras.layers.Dense(units = 10, activation = tf.nn.softmax)])\n",
    "\n",
    "# Compiling model with Adam optimizer and loss function is sparse_categorical_crossentropy\n",
    "model.compile(tf.optimizers.Adam(), loss = 'sparse_categorical_crossentropy', metrics = ['accuracy'])\n",
    "\n",
    "# Training the model. \n",
    "model.fit(x_train, y_train, epochs = 10, callbacks = [callbacks])"
   ]
  },
  {
   "cell_type": "markdown",
   "metadata": {},
   "source": [
    "# Decreasing the number of Convolution Layers"
   ]
  },
  {
   "cell_type": "code",
   "execution_count": 13,
   "metadata": {},
   "outputs": [
    {
     "name": "stdout",
     "output_type": "stream",
     "text": [
      "Epoch 1/10\n",
      "60000/60000 [==============================] - 41s 692us/sample - loss: 0.3801 - accuracy: 0.8651\n",
      "Epoch 2/10\n",
      "59904/60000 [============================>.] - ETA: 0s - loss: 0.2556 - accuracy: 0.9070\n",
      "Reached 90% accuracy so cancelling training!\n",
      "60000/60000 [==============================] - 42s 701us/sample - loss: 0.2555 - accuracy: 0.9070\n"
     ]
    },
    {
     "data": {
      "text/plain": [
       "<tensorflow.python.keras.callbacks.History at 0x13b09e050>"
      ]
     },
     "execution_count": 13,
     "metadata": {},
     "output_type": "execute_result"
    }
   ],
   "source": [
    "# Removing one Covolution layer\n",
    "\n",
    "# Download MNIST dataset from Keras\n",
    "mnist = tf.keras.datasets.fashion_mnist\n",
    "\n",
    "# Loading dataset into training and test sets\n",
    "(x_train, y_train),(x_test, y_test) = mnist.load_data()\n",
    "\n",
    "# creating the class for callback functionality\n",
    "class myCallback(tf.keras.callbacks.Callback):\n",
    "    def on_epoch_end(self, epoch, logs = {}):\n",
    "        if(logs.get('accuracy') > 0.90): #The model should terminate when the accuracy is > 60%\n",
    "            print(\"\\nReached 90% accuracy so cancelling training!\")\n",
    "            self.model.stop_training = True\n",
    "\n",
    "# Normalising the training and test data\n",
    "x_train = x_train.reshape(60000,28,28,1)\n",
    "x_train = x_train / 255.0\n",
    "x_test = x_test.reshape(10000,28,28,1)\n",
    "x_test = x_test / 255.0\n",
    "\n",
    "# Calling the myCallback class\n",
    "callbacks = myCallback()\n",
    "\n",
    "# Initiating the training model with 2 convolution layers. 64 of (3,3) filters \n",
    "model = tf.keras.Sequential([tf.keras.layers.Conv2D(64, (3,3), activation = tf.nn.relu, input_shape=(28, 28, 1)),\n",
    "                             tf.keras.layers.MaxPooling2D(2,2),\n",
    "                             tf.keras.layers.Flatten(), # Flattening the input layer\n",
    "                             tf.keras.layers.Dense(units = 128, activation = tf.nn.relu),\n",
    "                             tf.keras.layers.Dense(units = 10, activation = tf.nn.softmax)])\n",
    "\n",
    "# Compiling model with Adam optimizer and loss function is sparse_categorical_crossentropy\n",
    "model.compile(tf.optimizers.Adam(), loss = 'sparse_categorical_crossentropy', metrics = ['accuracy'])\n",
    "\n",
    "# Training the model. \n",
    "model.fit(x_train, y_train, epochs = 10, callbacks = [callbacks])"
   ]
  },
  {
   "cell_type": "markdown",
   "metadata": {},
   "source": [
    "# Conclusion "
   ]
  },
  {
   "cell_type": "markdown",
   "metadata": {},
   "source": [
    "We can see that the training accuracy has been increased when convolution layers are introduced"
   ]
  }
 ],
 "metadata": {
  "kernelspec": {
   "display_name": "Python 3",
   "language": "python",
   "name": "python3"
  },
  "language_info": {
   "codemirror_mode": {
    "name": "ipython",
    "version": 3
   },
   "file_extension": ".py",
   "mimetype": "text/x-python",
   "name": "python",
   "nbconvert_exporter": "python",
   "pygments_lexer": "ipython3",
   "version": "3.7.4"
  }
 },
 "nbformat": 4,
 "nbformat_minor": 2
}
